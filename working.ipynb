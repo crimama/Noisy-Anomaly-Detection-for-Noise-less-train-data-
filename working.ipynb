{
 "cells": [
  {
   "cell_type": "code",
   "execution_count": 3,
   "metadata": {},
   "outputs": [
    {
     "name": "stderr",
     "output_type": "stream",
     "text": [
      "FeatureExtractor is deprecated. Use TimmFeatureExtractor instead. Both FeatureExtractor and TimmFeatureExtractor will be removed in a future release.\n"
     ]
    },
    {
     "data": {
      "text/plain": [
       "<All keys matched successfully>"
      ]
     },
     "execution_count": 3,
     "metadata": {},
     "output_type": "execute_result"
    }
   ],
   "source": [
    "import numpy as np\n",
    "import os\n",
    "import torch\n",
    "from arguments import parser\n",
    "from torch.utils.data import DataLoader\n",
    "from datasets import create_dataset\n",
    "from accelerate import Accelerator\n",
    "import matplotlib.pyplot as plt \n",
    "from utils.utils import img_show, img_cvt\n",
    "\n",
    "torch.autograd.set_detect_anomaly(True)\n",
    "\n",
    "default_setting = './configs/benchmark/rd.yaml'\n",
    "cfg = parser(jupyter=True, default_setting = default_setting)\n",
    "\n",
    "\n",
    "accelerator = Accelerator(\n",
    "    mixed_precision             = cfg.TRAIN.mixed_precision\n",
    ")\n",
    "\n",
    "# load dataset\n",
    "trainset, testset = create_dataset(\n",
    "    dataset_name  = cfg.DATASET.dataset_name,\n",
    "    datadir       = cfg.DATASET.datadir,\n",
    "    class_name    = cfg.DATASET.class_name,\n",
    "    img_size      = cfg.DATASET.img_size,\n",
    "    mean          = cfg.DATASET.mean,\n",
    "    std           = cfg.DATASET.std,\n",
    "    aug_info      = cfg.DATASET.aug_info,\n",
    "    **cfg.DATASET.get('params',{})\n",
    ")\n",
    "\n",
    "# make save directory\n",
    "savedir = os.path.join(\n",
    "                            cfg.DEFAULT.savedir,\n",
    "                            cfg.DATASET.dataset_name,\n",
    "                            cfg.DATASET.class_name\n",
    "                        )\n",
    "\n",
    "exp_name         = cfg.DEFAULT.exp_name\n",
    "\n",
    "method            = cfg.MODEL.method\n",
    "backbone          = cfg.MODEL.backbone\n",
    "model_params      = cfg.MODEL.get('params',{})\n",
    "\n",
    "batch_size       = cfg.DATASET.batch_size\n",
    "test_batch_size  = cfg.DATASET.test_batch_size\n",
    "num_workers      = cfg.DATASET.num_workers\n",
    "\n",
    "opt_name         = cfg.OPTIMIZER.opt_name\n",
    "lr               = cfg.OPTIMIZER.lr\n",
    "opt_params       = cfg.OPTIMIZER.get('params',{})\n",
    "\n",
    "epochs           = cfg.TRAIN.epochs\n",
    "log_interval     = cfg.TRAIN.log_interval\n",
    "use_wandb        = cfg.TRAIN.wandb.use\n",
    "\n",
    "savedir          = savedir\n",
    "seed             = cfg.DEFAULT.seed\n",
    "accelerator      = accelerator\n",
    "cfg              = cfg\n",
    "\n",
    "# # define train dataloader\n",
    "trainloader = DataLoader(\n",
    "    dataset     = trainset,\n",
    "    batch_size  = batch_size,\n",
    "    num_workers = num_workers\n",
    ")\n",
    "\n",
    "# define test dataloader\n",
    "testloader = DataLoader(\n",
    "    dataset     = testset,\n",
    "    batch_size  = test_batch_size,\n",
    "    shuffle     = False,\n",
    "    num_workers = num_workers\n",
    ")\n",
    "\n",
    "model = __import__('models').__dict__[method](\n",
    "        backbone = backbone,\n",
    "        **model_params\n",
    "        ).to('cuda')   \n",
    "\n",
    "#optimizer = __import__('torch.optim', fromlist='optim').__dict__[opt_name](model.parameters(), lr=lr, **opt_params)\n",
    "model.load_state_dict(torch.load('results/MVTecAD/ReverseDistillation/bottle/imagenet_stats-anomaly_ratio_0/seed_42/model_best.pt'))"
   ]
  },
  {
   "cell_type": "code",
   "execution_count": 6,
   "metadata": {},
   "outputs": [
    {
     "data": {
      "text/plain": [
       "'../Data'"
      ]
     },
     "execution_count": 6,
     "metadata": {},
     "output_type": "execute_result"
    }
   ],
   "source": []
  },
  {
   "cell_type": "code",
   "execution_count": 7,
   "metadata": {},
   "outputs": [],
   "source": [
    "from datasets.mvtecad import * \n",
    "datadir = cfg.DATASET.datadir\n",
    "df = get_df(\n",
    "    datadir = datadir,\n",
    "    class_name = 'bottle'\n",
    ")"
   ]
  },
  {
   "cell_type": "code",
   "execution_count": 16,
   "metadata": {},
   "outputs": [
    {
     "data": {
      "text/plain": [
       "0    209\n",
       "Name: anomaly, dtype: int64"
      ]
     },
     "execution_count": 16,
     "metadata": {},
     "output_type": "execute_result"
    }
   ],
   "source": [
    "df[df['train/test'] == 'train']['anomaly'].value_counts()"
   ]
  },
  {
   "cell_type": "code",
   "execution_count": 15,
   "metadata": {},
   "outputs": [
    {
     "data": {
      "text/plain": [
       "1    63\n",
       "0    20\n",
       "Name: anomaly, dtype: int64"
      ]
     },
     "execution_count": 15,
     "metadata": {},
     "output_type": "execute_result"
    }
   ],
   "source": [
    "df[df['train/test'] == 'test']['anomaly'].value_counts()"
   ]
  },
  {
   "cell_type": "code",
   "execution_count": 29,
   "metadata": {},
   "outputs": [
    {
     "data": {
      "text/html": [
       "<div>\n",
       "<style scoped>\n",
       "    .dataframe tbody tr th:only-of-type {\n",
       "        vertical-align: middle;\n",
       "    }\n",
       "\n",
       "    .dataframe tbody tr th {\n",
       "        vertical-align: top;\n",
       "    }\n",
       "\n",
       "    .dataframe thead th {\n",
       "        text-align: right;\n",
       "    }\n",
       "</style>\n",
       "<table border=\"1\" class=\"dataframe\">\n",
       "  <thead>\n",
       "    <tr style=\"text-align: right;\">\n",
       "      <th></th>\n",
       "      <th>0</th>\n",
       "      <th>anomaly</th>\n",
       "      <th>train/test</th>\n",
       "    </tr>\n",
       "  </thead>\n",
       "  <tbody>\n",
       "    <tr>\n",
       "      <th>83</th>\n",
       "      <td>../Data/MVTecAD/bottle/train/good/000.png</td>\n",
       "      <td>0</td>\n",
       "      <td>train</td>\n",
       "    </tr>\n",
       "    <tr>\n",
       "      <th>84</th>\n",
       "      <td>../Data/MVTecAD/bottle/train/good/001.png</td>\n",
       "      <td>0</td>\n",
       "      <td>train</td>\n",
       "    </tr>\n",
       "    <tr>\n",
       "      <th>85</th>\n",
       "      <td>../Data/MVTecAD/bottle/train/good/002.png</td>\n",
       "      <td>0</td>\n",
       "      <td>train</td>\n",
       "    </tr>\n",
       "    <tr>\n",
       "      <th>86</th>\n",
       "      <td>../Data/MVTecAD/bottle/train/good/003.png</td>\n",
       "      <td>0</td>\n",
       "      <td>train</td>\n",
       "    </tr>\n",
       "    <tr>\n",
       "      <th>87</th>\n",
       "      <td>../Data/MVTecAD/bottle/train/good/004.png</td>\n",
       "      <td>0</td>\n",
       "      <td>train</td>\n",
       "    </tr>\n",
       "    <tr>\n",
       "      <th>...</th>\n",
       "      <td>...</td>\n",
       "      <td>...</td>\n",
       "      <td>...</td>\n",
       "    </tr>\n",
       "    <tr>\n",
       "      <th>287</th>\n",
       "      <td>../Data/MVTecAD/bottle/train/good/204.png</td>\n",
       "      <td>0</td>\n",
       "      <td>train</td>\n",
       "    </tr>\n",
       "    <tr>\n",
       "      <th>288</th>\n",
       "      <td>../Data/MVTecAD/bottle/train/good/205.png</td>\n",
       "      <td>0</td>\n",
       "      <td>train</td>\n",
       "    </tr>\n",
       "    <tr>\n",
       "      <th>289</th>\n",
       "      <td>../Data/MVTecAD/bottle/train/good/206.png</td>\n",
       "      <td>0</td>\n",
       "      <td>train</td>\n",
       "    </tr>\n",
       "    <tr>\n",
       "      <th>290</th>\n",
       "      <td>../Data/MVTecAD/bottle/train/good/207.png</td>\n",
       "      <td>0</td>\n",
       "      <td>train</td>\n",
       "    </tr>\n",
       "    <tr>\n",
       "      <th>291</th>\n",
       "      <td>../Data/MVTecAD/bottle/train/good/208.png</td>\n",
       "      <td>0</td>\n",
       "      <td>train</td>\n",
       "    </tr>\n",
       "  </tbody>\n",
       "</table>\n",
       "<p>209 rows × 3 columns</p>\n",
       "</div>"
      ],
      "text/plain": [
       "                                             0  anomaly train/test\n",
       "83   ../Data/MVTecAD/bottle/train/good/000.png        0      train\n",
       "84   ../Data/MVTecAD/bottle/train/good/001.png        0      train\n",
       "85   ../Data/MVTecAD/bottle/train/good/002.png        0      train\n",
       "86   ../Data/MVTecAD/bottle/train/good/003.png        0      train\n",
       "87   ../Data/MVTecAD/bottle/train/good/004.png        0      train\n",
       "..                                         ...      ...        ...\n",
       "287  ../Data/MVTecAD/bottle/train/good/204.png        0      train\n",
       "288  ../Data/MVTecAD/bottle/train/good/205.png        0      train\n",
       "289  ../Data/MVTecAD/bottle/train/good/206.png        0      train\n",
       "290  ../Data/MVTecAD/bottle/train/good/207.png        0      train\n",
       "291  ../Data/MVTecAD/bottle/train/good/208.png        0      train\n",
       "\n",
       "[209 rows x 3 columns]"
      ]
     },
     "execution_count": 29,
     "metadata": {},
     "output_type": "execute_result"
    }
   ],
   "source": [
    "df[df['train/test'] == 'train']"
   ]
  }
 ],
 "metadata": {
  "kernelspec": {
   "display_name": "Python 3 (ipykernel)",
   "language": "python",
   "name": "python3"
  },
  "language_info": {
   "codemirror_mode": {
    "name": "ipython",
    "version": 3
   },
   "file_extension": ".py",
   "mimetype": "text/x-python",
   "name": "python",
   "nbconvert_exporter": "python",
   "pygments_lexer": "ipython3",
   "version": "3.8.10"
  }
 },
 "nbformat": 4,
 "nbformat_minor": 4
}
