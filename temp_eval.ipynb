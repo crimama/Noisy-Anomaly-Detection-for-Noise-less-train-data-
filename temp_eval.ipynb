{
 "cells": [
  {
   "cell_type": "code",
   "execution_count": 1,
   "metadata": {},
   "outputs": [],
   "source": [
    "import json \n",
    "import pandas as pd \n",
    "import numpy as np \n",
    "import os \n",
    "import seaborn as sns \n",
    "import matplotlib.pyplot as plt \n",
    "from glob import glob \n",
    "\n",
    "def load_df(log_dir):\n",
    "    with open(log_dir, 'r') as f:\n",
    "        data = f.readlines()\n",
    "    df = pd.DataFrame(list(pd.Series(data).map(eval).values))    \n",
    "    return df \n",
    "\n",
    "def load_log_data(class_name, version, result_dir,method):\n",
    "\n",
    "    df = pd.DataFrame()\n",
    "    for i,v in enumerate(version):\n",
    "        log_dir = os.path.join(result_dir,class_name,method,v,'log.txt')\n",
    "        \n",
    "        temp_df = load_df(log_dir)\n",
    "        temp_df['hue'] = v \n",
    "        \n",
    "        df = pd.concat([df,temp_df])\n",
    "    \n",
    "    return df \n",
    "\n",
    "def plot_log(data,class_name, metrics:list, figsize:tuple = (10,7)):\n",
    "    \n",
    "    fig, axes = plt.subplots(len(metrics),1,figsize=figsize)\n",
    "    \n",
    "    for ax, metric in zip(axes, metrics):\n",
    "        sns.lineplot(\n",
    "            x = 'epoch',\n",
    "            y = metric,\n",
    "            data = data,\n",
    "            hue = data['hue'],\n",
    "            ax = ax \n",
    "        )\n",
    "        \n",
    "    fig.suptitle(class_name)\n",
    "    plt.show()"
   ]
  },
  {
   "cell_type": "code",
   "execution_count": null,
   "metadata": {},
   "outputs": [],
   "source": [
    "class_name = 'wood'\n",
    "method = 'STPM'\n",
    "version = ['MoreEpoch-anomaly_ratio_0']\n",
    "result_dir = './results/benchmark/MVTecAD/'\n",
    "metrics = ['test_pixel_auroc','test_aupro']\n",
    "df = load_log_data(class_name, version, result_dir,method)\n",
    "\n",
    "plot_log(df,class_name, metrics)"
   ]
  },
  {
   "cell_type": "markdown",
   "metadata": {},
   "source": [
    "### STPM Base "
   ]
  },
  {
   "cell_type": "code",
   "execution_count": 13,
   "metadata": {},
   "outputs": [],
   "source": [
    "version = ['loss_anomalib-anomaly_ratio_0', 'Baseline-anomaly_ratio_0']\n",
    "result_dir = './results/benchmark/MVTecAD/'\n",
    "metrics = ['test_pixel_auroc','test_aupro']\n",
    "method = 'STPM'\n",
    "\n",
    "\n",
    "df = pd.DataFrame()\n",
    "for v in version:\n",
    "    log_dirs = glob(os.path.join(result_dir,'*',method,v,'results_seed0_best.json'))\n",
    "    for log_dir in log_dirs:\n",
    "        temp_df = pd.DataFrame(json.load(open(log_dir)))\n",
    "        temp_df['class'] = log_dir.split('/')[-4]\n",
    "        temp_df['normal_ratio'] = float(log_dir.split('/')[-2].split('-')[1].split('_')[-1])\n",
    "        temp_df['exp'] = log_dir.split('/')[-2]\n",
    "        df = pd.concat([df,temp_df])    \n",
    "    \n",
    "df = df.reset_index()    \n",
    "df.columns = ['metric','best_step','valid','test','class','normal_ratio','exp']"
   ]
  },
  {
   "cell_type": "code",
   "execution_count": 28,
   "metadata": {},
   "outputs": [
    {
     "data": {
      "text/plain": [
       "array(['leather', 'zipper', 'metal_nut', 'wood', 'pill', 'hazelnut',\n",
       "       'transistor', 'grid', 'tile', 'capsule', 'toothbrush', 'screw',\n",
       "       'carpet', 'bottle', 'cable'], dtype=object)"
      ]
     },
     "execution_count": 28,
     "metadata": {},
     "output_type": "execute_result"
    }
   ],
   "source": [
    "df['class'].unique()"
   ]
  },
  {
   "cell_type": "code",
   "execution_count": 36,
   "metadata": {},
   "outputs": [
    {
     "data": {
      "text/html": [
       "<div>\n",
       "<style scoped>\n",
       "    .dataframe tbody tr th:only-of-type {\n",
       "        vertical-align: middle;\n",
       "    }\n",
       "\n",
       "    .dataframe tbody tr th {\n",
       "        vertical-align: top;\n",
       "    }\n",
       "\n",
       "    .dataframe thead th {\n",
       "        text-align: right;\n",
       "    }\n",
       "</style>\n",
       "<table border=\"1\" class=\"dataframe\">\n",
       "  <thead>\n",
       "    <tr style=\"text-align: right;\">\n",
       "      <th></th>\n",
       "      <th>metric</th>\n",
       "      <th>best_step</th>\n",
       "      <th>valid</th>\n",
       "      <th>test</th>\n",
       "      <th>class</th>\n",
       "      <th>normal_ratio</th>\n",
       "      <th>exp</th>\n",
       "    </tr>\n",
       "  </thead>\n",
       "  <tbody>\n",
       "    <tr>\n",
       "      <th>52</th>\n",
       "      <td>loss</td>\n",
       "      <td>97</td>\n",
       "      <td>2.378237</td>\n",
       "      <td>2.395620</td>\n",
       "      <td>tile</td>\n",
       "      <td>0.0</td>\n",
       "      <td>Baseline-anomaly_ratio_0</td>\n",
       "    </tr>\n",
       "    <tr>\n",
       "      <th>53</th>\n",
       "      <td>image_auroc</td>\n",
       "      <td>97</td>\n",
       "      <td>NaN</td>\n",
       "      <td>0.923160</td>\n",
       "      <td>tile</td>\n",
       "      <td>0.0</td>\n",
       "      <td>Baseline-anomaly_ratio_0</td>\n",
       "    </tr>\n",
       "    <tr>\n",
       "      <th>54</th>\n",
       "      <td>pixel_auroc</td>\n",
       "      <td>97</td>\n",
       "      <td>NaN</td>\n",
       "      <td>0.864149</td>\n",
       "      <td>tile</td>\n",
       "      <td>0.0</td>\n",
       "      <td>Baseline-anomaly_ratio_0</td>\n",
       "    </tr>\n",
       "    <tr>\n",
       "      <th>55</th>\n",
       "      <td>aupro</td>\n",
       "      <td>97</td>\n",
       "      <td>NaN</td>\n",
       "      <td>0.694862</td>\n",
       "      <td>tile</td>\n",
       "      <td>0.0</td>\n",
       "      <td>Baseline-anomaly_ratio_0</td>\n",
       "    </tr>\n",
       "  </tbody>\n",
       "</table>\n",
       "</div>"
      ],
      "text/plain": [
       "         metric  best_step     valid      test class  normal_ratio  \\\n",
       "52         loss         97  2.378237  2.395620  tile           0.0   \n",
       "53  image_auroc         97       NaN  0.923160  tile           0.0   \n",
       "54  pixel_auroc         97       NaN  0.864149  tile           0.0   \n",
       "55        aupro         97       NaN  0.694862  tile           0.0   \n",
       "\n",
       "                         exp  \n",
       "52  Baseline-anomaly_ratio_0  \n",
       "53  Baseline-anomaly_ratio_0  \n",
       "54  Baseline-anomaly_ratio_0  \n",
       "55  Baseline-anomaly_ratio_0  "
      ]
     },
     "execution_count": 36,
     "metadata": {},
     "output_type": "execute_result"
    }
   ],
   "source": [
    "df[df['class']=='tile']"
   ]
  },
  {
   "cell_type": "markdown",
   "metadata": {},
   "source": [
    "### PatchCore Base "
   ]
  },
  {
   "cell_type": "code",
   "execution_count": 109,
   "metadata": {},
   "outputs": [
    {
     "data": {
      "text/html": [
       "<div>\n",
       "<style scoped>\n",
       "    .dataframe tbody tr th:only-of-type {\n",
       "        vertical-align: middle;\n",
       "    }\n",
       "\n",
       "    .dataframe tbody tr th {\n",
       "        vertical-align: top;\n",
       "    }\n",
       "\n",
       "    .dataframe thead th {\n",
       "        text-align: right;\n",
       "    }\n",
       "</style>\n",
       "<table border=\"1\" class=\"dataframe\">\n",
       "  <thead>\n",
       "    <tr style=\"text-align: right;\">\n",
       "      <th></th>\n",
       "      <th>0</th>\n",
       "      <th>1</th>\n",
       "      <th>2</th>\n",
       "      <th>3</th>\n",
       "    </tr>\n",
       "  </thead>\n",
       "  <tbody>\n",
       "    <tr>\n",
       "      <th>index</th>\n",
       "      <td>aupro</td>\n",
       "      <td>image_auroc</td>\n",
       "      <td>loss</td>\n",
       "      <td>pixel_auroc</td>\n",
       "    </tr>\n",
       "    <tr>\n",
       "      <th>0</th>\n",
       "      <td>0.8898</td>\n",
       "      <td>0.894077</td>\n",
       "      <td>0.0</td>\n",
       "      <td>0.969336</td>\n",
       "    </tr>\n",
       "  </tbody>\n",
       "</table>\n",
       "</div>"
      ],
      "text/plain": [
       "            0            1     2            3\n",
       "index   aupro  image_auroc  loss  pixel_auroc\n",
       "0      0.8898     0.894077   0.0     0.969336"
      ]
     },
     "execution_count": 109,
     "metadata": {},
     "output_type": "execute_result"
    }
   ],
   "source": [
    "version = ['-normal_ratio_0.1-anomaly_ratio_0']\n",
    "result_dir = './results/benchmark/MVTecAD/'\n",
    "metrics = ['test_pixel_auroc','test_aupro']\n",
    "method = 'PatchCore'\n",
    "\n",
    "log_dirs = glob(os.path.join(result_dir,'*',method,version[0],'results_seed0_best.json'))\n",
    "df = pd.DataFrame()\n",
    "\n",
    "for log_dir in log_dirs:\n",
    "    temp_df = pd.DataFrame(json.load(open(log_dir)))\n",
    "    temp_df['class'] = log_dir.split('/')[-4]\n",
    "    df = pd.concat([df,temp_df])    \n",
    "df = df.reset_index()    \n",
    "df = df.pivot(index='class', columns='index', values='test')\n",
    "df.mean().reset_index().T"
   ]
  },
  {
   "cell_type": "code",
   "execution_count": 111,
   "metadata": {},
   "outputs": [
    {
     "data": {
      "text/html": [
       "<div>\n",
       "<style scoped>\n",
       "    .dataframe tbody tr th:only-of-type {\n",
       "        vertical-align: middle;\n",
       "    }\n",
       "\n",
       "    .dataframe tbody tr th {\n",
       "        vertical-align: top;\n",
       "    }\n",
       "\n",
       "    .dataframe thead th {\n",
       "        text-align: right;\n",
       "    }\n",
       "</style>\n",
       "<table border=\"1\" class=\"dataframe\">\n",
       "  <thead>\n",
       "    <tr style=\"text-align: right;\">\n",
       "      <th></th>\n",
       "      <th>0</th>\n",
       "      <th>1</th>\n",
       "      <th>2</th>\n",
       "      <th>3</th>\n",
       "    </tr>\n",
       "  </thead>\n",
       "  <tbody>\n",
       "    <tr>\n",
       "      <th>index</th>\n",
       "      <td>aupro</td>\n",
       "      <td>image_auroc</td>\n",
       "      <td>loss</td>\n",
       "      <td>pixel_auroc</td>\n",
       "    </tr>\n",
       "    <tr>\n",
       "      <th>0</th>\n",
       "      <td>0.915908</td>\n",
       "      <td>0.931516</td>\n",
       "      <td>0.0</td>\n",
       "      <td>0.97727</td>\n",
       "    </tr>\n",
       "  </tbody>\n",
       "</table>\n",
       "</div>"
      ],
      "text/plain": [
       "              0            1     2            3\n",
       "index     aupro  image_auroc  loss  pixel_auroc\n",
       "0      0.915908     0.931516   0.0      0.97727"
      ]
     },
     "execution_count": 111,
     "metadata": {},
     "output_type": "execute_result"
    }
   ],
   "source": [
    "version = ['-normal_ratio_0.25-anomaly_ratio_0']\n",
    "result_dir = './results/benchmark/MVTecAD/'\n",
    "metrics = ['test_pixel_auroc','test_aupro']\n",
    "method = 'PatchCore'\n",
    "\n",
    "log_dirs = glob(os.path.join(result_dir,'*',method,version[0],'results_seed0_best.json'))\n",
    "df = pd.DataFrame()\n",
    "\n",
    "for log_dir in log_dirs:\n",
    "    temp_df = pd.DataFrame(json.load(open(log_dir)))\n",
    "    temp_df['class'] = log_dir.split('/')[-4]\n",
    "    df = pd.concat([df,temp_df])    \n",
    "df = df.reset_index()    \n",
    "df = df.pivot(index='class', columns='index', values='test')\n",
    "df.mean().reset_index().T"
   ]
  },
  {
   "cell_type": "code",
   "execution_count": 108,
   "metadata": {},
   "outputs": [
    {
     "data": {
      "text/html": [
       "<div>\n",
       "<style scoped>\n",
       "    .dataframe tbody tr th:only-of-type {\n",
       "        vertical-align: middle;\n",
       "    }\n",
       "\n",
       "    .dataframe tbody tr th {\n",
       "        vertical-align: top;\n",
       "    }\n",
       "\n",
       "    .dataframe thead th {\n",
       "        text-align: right;\n",
       "    }\n",
       "</style>\n",
       "<table border=\"1\" class=\"dataframe\">\n",
       "  <thead>\n",
       "    <tr style=\"text-align: right;\">\n",
       "      <th></th>\n",
       "      <th>0</th>\n",
       "      <th>1</th>\n",
       "      <th>2</th>\n",
       "      <th>3</th>\n",
       "    </tr>\n",
       "  </thead>\n",
       "  <tbody>\n",
       "    <tr>\n",
       "      <th>index</th>\n",
       "      <td>aupro</td>\n",
       "      <td>image_auroc</td>\n",
       "      <td>loss</td>\n",
       "      <td>pixel_auroc</td>\n",
       "    </tr>\n",
       "    <tr>\n",
       "      <th>0</th>\n",
       "      <td>0.827693</td>\n",
       "      <td>0.844306</td>\n",
       "      <td>0.0</td>\n",
       "      <td>0.946074</td>\n",
       "    </tr>\n",
       "  </tbody>\n",
       "</table>\n",
       "</div>"
      ],
      "text/plain": [
       "              0            1     2            3\n",
       "index     aupro  image_auroc  loss  pixel_auroc\n",
       "0      0.827693     0.844306   0.0     0.946074"
      ]
     },
     "execution_count": 108,
     "metadata": {},
     "output_type": "execute_result"
    }
   ],
   "source": [
    "version = ['-normal_ratio_0.01-anomaly_ratio_0']\n",
    "result_dir = './results/benchmark/MVTecAD/'\n",
    "metrics = ['test_pixel_auroc','test_aupro']\n",
    "method = 'PatchCore'\n",
    "\n",
    "log_dirs = glob(os.path.join(result_dir,'*',method,version[0],'results_seed0_best.json'))\n",
    "df = pd.DataFrame()\n",
    "\n",
    "for log_dir in log_dirs:\n",
    "    temp_df = pd.DataFrame(json.load(open(log_dir)))\n",
    "    temp_df['class'] = log_dir.split('/')[-4]\n",
    "    df = pd.concat([df,temp_df])    \n",
    "df = df.reset_index()    \n",
    "df= df.pivot(index='class', columns='index', values='test')\n",
    "df.mean().reset_index().T"
   ]
  },
  {
   "cell_type": "code",
   "execution_count": 118,
   "metadata": {},
   "outputs": [
    {
     "data": {
      "text/plain": [
       "0.25"
      ]
     },
     "execution_count": 118,
     "metadata": {},
     "output_type": "execute_result"
    }
   ],
   "source": []
  },
  {
   "cell_type": "code",
   "execution_count": 133,
   "metadata": {},
   "outputs": [],
   "source": [
    "version = ['-normal_ratio_0.01-anomaly_ratio_0','-normal_ratio_0.1-anomaly_ratio_0','-normal_ratio_0.25-anomaly_ratio_0']\n",
    "result_dir = './results/benchmark/MVTecAD/'\n",
    "metrics = ['test_pixel_auroc','test_aupro']\n",
    "method = 'PatchCore'\n",
    "\n",
    "df = pd.DataFrame()\n",
    "\n",
    "for v in version:\n",
    "    log_dirs = glob(os.path.join(result_dir,'*',method,v,'results_seed0_best.json'))\n",
    "    for log_dir in log_dirs:\n",
    "        temp_df = pd.DataFrame(json.load(open(log_dir)))\n",
    "        temp_df['class'] = log_dir.split('/')[-4]\n",
    "        temp_df['normal_ratio'] = float(log_dir.split('/')[-2].split('-')[1].split('_')[-1])\n",
    "        df = pd.concat([df,temp_df])    \n",
    "    \n",
    "df = df.reset_index()    "
   ]
  },
  {
   "cell_type": "code",
   "execution_count": 139,
   "metadata": {},
   "outputs": [],
   "source": [
    "pivot_df = df.pivot(index=['class', 'normal_ratio'], columns='index', values='test')\n",
    "df = pivot_df.reset_index()"
   ]
  },
  {
   "cell_type": "code",
   "execution_count": 151,
   "metadata": {},
   "outputs": [
    {
     "data": {
      "text/plain": [
       "<AxesSubplot: xlabel='class', ylabel='aupro'>"
      ]
     },
     "execution_count": 151,
     "metadata": {},
     "output_type": "execute_result"
    },
    {
     "data": {
      "image/png": "[encoded data removed]",
      "text/plain": [
       "<Figure size 1000x700 with 1 Axes>"
      ]
     },
     "metadata": {},
     "output_type": "display_data"
    }
   ],
   "source": [
    "plt.figure(figsize=(10,7))\n",
    "sns.barplot(\n",
    "    x = 'class',\n",
    "    y = 'aupro',\n",
    "    hue = 'normal_ratio',\n",
    "    data = df\n",
    ")"
   ]
  }
 ],
 "metadata": {
  "kernelspec": {
   "display_name": "Python 3",
   "language": "python",
   "name": "python3"
  },
  "language_info": {
   "codemirror_mode": {
    "name": "ipython",
    "version": 3
   },
   "file_extension": ".py",
   "mimetype": "text/x-python",
   "name": "python",
   "nbconvert_exporter": "python",
   "pygments_lexer": "ipython3",
   "version": "3.8.10"
  },
  "orig_nbformat": 4
 },
 "nbformat": 4,
 "nbformat_minor": 2
}
