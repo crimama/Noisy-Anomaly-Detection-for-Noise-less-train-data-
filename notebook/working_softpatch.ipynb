{
 "cells": [
  {
   "cell_type": "code",
   "execution_count": 1,
   "metadata": {},
   "outputs": [],
   "source": [
    "import os \n",
    "os.environ['CUDA_VISIBLE_DEVICES'] = '0'\n",
    "import warnings \n",
    "warnings.filterwarnings('ignore')\n",
    "from arguments import parser\n",
    "from datasets import create_dataset\n",
    "from easydict import EasyDict\n",
    "from softpatch.main import get_coreset,get_sampler\n",
    "\n",
    "from torch.utils.data import DataLoader \n",
    "\n",
    "default_setting = './configs/benchmark/pc_mvtecad.yaml'\n",
    "# default_setting = './configs/benchmark/pc_mvtecloco.yaml'\n",
    "cfg = parser(jupyter=True, default_setting = default_setting)\n",
    "cfg.DATASET.params.baseline = True \n",
    "\n",
    "# load dataset\n",
    "trainset, testset = create_dataset(\n",
    "    dataset_name  = cfg.DATASET.dataset_name,\n",
    "    datadir       = cfg.DATASET.datadir,\n",
    "    class_name    = cfg.DATASET.class_name,\n",
    "    img_size      = cfg.DATASET.img_size,\n",
    "    mean          = cfg.DATASET.mean,\n",
    "    std           = cfg.DATASET.std,\n",
    "    aug_info      = cfg.DATASET.aug_info,\n",
    "    **cfg.DATASET.get('params',{})\n",
    ")\n",
    "\n",
    "trainloader = DataLoader(trainset,batch_size = 32,shuffle=False)\n",
    "testloader = DataLoader(testset, batch_size = 32, shuffle=True)\n"
   ]
  },
  {
   "cell_type": "code",
   "execution_count": null,
   "metadata": {},
   "outputs": [],
   "source": [
    "import timm \n",
    "import torch \n",
    "import torch.nn as nn \n",
    "from softpatch.src import common \n",
    "from models import PatchCore\n",
    "\n",
    "model = PatchCore(\n",
    "    backbone               = 'wide_resnet50_2',\n",
    "    layers_to_extract_from = cfg.MODEL.params.layers_to_extract_from,\n",
    "    input_shape            = (3,cfg.DATASET.img_size, cfg.DATASET.img_size),\n",
    "    sampler_name           = cfg.MODEL.params.sampler_name,\n",
    "    sampling_ratio         = cfg.MODEL.params.sampling_ratio,\n",
    "    faiss_on_gpu           = cfg.MODEL.params.faiss_on_gpu,\n",
    "    faiss_num_workers      = cfg.MODEL.params.faiss_num_workers,\n",
    "    lof_k                  = cfg.MODEL.params.lof_k,\n",
    "    threshold              = cfg.MODEL.params.threshold,\n",
    "    weight_method          = cfg.MODEL.params.weight_method,\n",
    "    with_soft_weight       = cfg.MODEL.params.with_soft_weight,\n",
    "    device                 = f\"cuda:{cfg.MODEL.params.device}\"\n",
    "    )                        "
   ]
  },
  {
   "cell_type": "code",
   "execution_count": 3,
   "metadata": {},
   "outputs": [],
   "source": [
    "method = cfg.MODEL.method\n",
    "backbone = cfg.MODEL.backbone \n",
    "model_params = cfg.MODEL.params\n",
    "\n",
    "model = __import__('models').__dict__[method](\n",
    "                           backbone = backbone,\n",
    "                           **model_params\n",
    "                           )"
   ]
  },
  {
   "cell_type": "code",
   "execution_count": 4,
   "metadata": {},
   "outputs": [
    {
     "name": "stderr",
     "output_type": "stream",
     "text": [
      "Computing support features...: 100%|██████████| 7/7 [00:04<00:00,  1.72it/s]\n",
      "Subsampling...: 100%|██████████| 42924/42924 [00:23<00:00, 1816.00it/s]\n"
     ]
    }
   ],
   "source": [
    "for imgs, labels, gts in trainloader:\n",
    "    model(imgs)\n",
    "model.fit()"
   ]
  },
  {
   "cell_type": "code",
   "execution_count": 5,
   "metadata": {},
   "outputs": [
    {
     "name": "stdout",
     "output_type": "stream",
     "text": [
      "tensor(0.9988) tensor(0.9895)\n"
     ]
    }
   ],
   "source": [
    "import numpy as np \n",
    "import torch \n",
    "from torchmetrics import AUROC \n",
    "\n",
    "img_auroc = AUROC()\n",
    "pix_auroc = AUROC()\n",
    "for imgs, labels, gts in testloader:\n",
    "    scores, masks = model.get_score_map(imgs.to('cuda'))\n",
    "    \n",
    "    img_auroc.update(torch.Tensor(scores), labels)\n",
    "    pix_auroc.update(torch.Tensor(masks).reshape(-1),gts.reshape(-1).type(torch.int8))\n",
    "    \n",
    "print(img_auroc.compute(), pix_auroc.compute())"
   ]
  },
  {
   "cell_type": "code",
   "execution_count": 1,
   "metadata": {},
   "outputs": [
    {
     "name": "stderr",
     "output_type": "stream",
     "text": [
      "/usr/local/lib/python3.8/dist-packages/tqdm/auto.py:22: TqdmWarning: IProgress not found. Please update jupyter and ipywidgets. See https://ipywidgets.readthedocs.io/en/stable/user_install.html\n",
      "  from .autonotebook import tqdm as notebook_tqdm\n"
     ]
    },
    {
     "ename": "NameError",
     "evalue": "name 'np' is not defined",
     "output_type": "error",
     "traceback": [
      "\u001b[0;31m---------------------------------------------------------------------------\u001b[0m",
      "\u001b[0;31mNameError\u001b[0m                                 Traceback (most recent call last)",
      "\u001b[1;32m/Volume/VAD/UAADF/working_softpatch.ipynb 셀 6\u001b[0m line \u001b[0;36m4\n\u001b[1;32m      <a href='vscode-notebook-cell://attached-container%2B7b22636f6e7461696e65724e616d65223a222f5541414446227d@ssh-remote%2Bhun/Volume/VAD/UAADF/working_softpatch.ipynb#W5sdnNjb2RlLXJlbW90ZQ%3D%3D?line=1'>2</a>\u001b[0m \u001b[39mfrom\u001b[39;00m \u001b[39msklearn\u001b[39;00m\u001b[39m.\u001b[39;00m\u001b[39mmetrics\u001b[39;00m \u001b[39mimport\u001b[39;00m precision_recall_curve, roc_curve, auc, confusion_matrix\n\u001b[1;32m      <a href='vscode-notebook-cell://attached-container%2B7b22636f6e7461696e65724e616d65223a222f5541414446227d@ssh-remote%2Bhun/Volume/VAD/UAADF/working_softpatch.ipynb#W5sdnNjb2RlLXJlbW90ZQ%3D%3D?line=2'>3</a>\u001b[0m \u001b[39mfrom\u001b[39;00m \u001b[39mutils\u001b[39;00m\u001b[39m.\u001b[39;00m\u001b[39mmetrics\u001b[39;00m \u001b[39mimport\u001b[39;00m compute_pro\n\u001b[0;32m----> <a href='vscode-notebook-cell://attached-container%2B7b22636f6e7461696e65724e616d65223a222f5541414446227d@ssh-remote%2Bhun/Volume/VAD/UAADF/working_softpatch.ipynb#W5sdnNjb2RlLXJlbW90ZQ%3D%3D?line=3'>4</a>\u001b[0m \u001b[39mdef\u001b[39;00m \u001b[39mcalculate_aupro\u001b[39m(anomaly_maps:np\u001b[39m.\u001b[39mndarray, ground_truth_maps:np\u001b[39m.\u001b[39mndarray):    \n\u001b[1;32m      <a href='vscode-notebook-cell://attached-container%2B7b22636f6e7461696e65724e616d65223a222f5541414446227d@ssh-remote%2Bhun/Volume/VAD/UAADF/working_softpatch.ipynb#W5sdnNjb2RlLXJlbW90ZQ%3D%3D?line=4'>5</a>\u001b[0m     \u001b[39m# 모든 이미지에 대한 FPR과 PRO 값을 저장할 리스트\u001b[39;00m\n\u001b[1;32m      <a href='vscode-notebook-cell://attached-container%2B7b22636f6e7461696e65724e616d65223a222f5541414446227d@ssh-remote%2Bhun/Volume/VAD/UAADF/working_softpatch.ipynb#W5sdnNjb2RlLXJlbW90ZQ%3D%3D?line=5'>6</a>\u001b[0m     all_fprs \u001b[39m=\u001b[39m []\n\u001b[1;32m      <a href='vscode-notebook-cell://attached-container%2B7b22636f6e7461696e65724e616d65223a222f5541414446227d@ssh-remote%2Bhun/Volume/VAD/UAADF/working_softpatch.ipynb#W5sdnNjb2RlLXJlbW90ZQ%3D%3D?line=6'>7</a>\u001b[0m     all_pros \u001b[39m=\u001b[39m []\n",
      "\u001b[0;31mNameError\u001b[0m: name 'np' is not defined"
     ]
    }
   ],
   "source": [
    "from torchmetrics import AUROC \n",
    "from sklearn.metrics import precision_recall_curve, roc_curve, auc, confusion_matrix\n",
    "from utils.metrics import compute_pro\n",
    "def calculate_aupro(anomaly_maps:np.ndarray, ground_truth_maps:np.ndarray):    \n",
    "    # 모든 이미지에 대한 FPR과 PRO 값을 저장할 리스트\n",
    "    all_fprs = []\n",
    "    all_pros = []\n",
    "\n",
    "    # 각 이미지에 대해 compute_pro 호출\n",
    "    aupro = [] \n",
    "    for i in range(len(anomaly_maps)):\n",
    "        fprs, pros = compute_pro(anomaly_maps[i], ground_truth_maps[i])\n",
    "        aupro.append(auc(fprs,pros))\n",
    "\n",
    "    # 전체 FPR과 PRO 값들을 정렬\n",
    "    # sorted_indices = np.argsort(all_fprs)\n",
    "    # sorted_fprs = np.array(all_fprs)[sorted_indices]\n",
    "    # sorted_pros = np.array(all_pros)[sorted_indices]\n",
    "\n",
    "    return np.mean(aupro)\n",
    "\n",
    "class MetricCalculator:\n",
    "    '''\n",
    "    metric = MetricCalculator(metric_list=['auroc])\n",
    "    \n",
    "    metric.update(preds:torch.Tensor, target:torch.Tensor)\n",
    "    '''\n",
    "    def __init__(self, metric_list: list):\n",
    "        self.metric_list = metric_list \n",
    "        self.preds = [] \n",
    "        self.targets = [] \n",
    "        \n",
    "    def _confusion_matrix(self, y_preds:np.ndarray, y_trues:np.ndarray):\n",
    "        y_preds, y_trues = y_preds.flatten(), y_trues.flatten()\n",
    "        fpr, tpr, thr = roc_curve(y_trues,y_preds)\n",
    "        cm_list = {} \n",
    "        for fpr_ratio in [0.005, 0.01, 0.05, 0.1]:\n",
    "            fpr_thr = thr[np.argmin(fpr < fpr_ratio)-1]\n",
    "            y_preds = np.where(y_preds > fpr_thr,1,0)\n",
    "            cm = confusion_matrix(y_trues, y_preds)\n",
    "            \n",
    "            cm_list[fpr_ratio] = cm \n",
    "        return cm_list \n",
    "    \n",
    "    def _detach(self, data):\n",
    "        if isinstance(data, torch.Tensor):\n",
    "            out = data.detach().cpu().numpy()\n",
    "        elif isinstance(data, np.ndarray):\n",
    "            out = data \n",
    "        return out \n",
    "    \n",
    "    def _average_precision(self, y_preds:np.ndarray, y_trues:np.ndarray):\n",
    "        y_preds, y_trues = y_preds.flatten(), y_trues.flatten()\n",
    "        precision, recall, _ = precision_recall_curve(y_trues, y_preds)\n",
    "        aupr = auc(recall, precision)\n",
    "        return aupr \n",
    "    \n",
    "    def _auroc(self, y_preds:np.ndarray, y_trues:np.ndarray):\n",
    "        y_preds, y_trues = y_preds.flatten(), y_trues.flatten()\n",
    "        fpr, tpr, thr = roc_curve(y_trues,y_preds)\n",
    "        auroc = auc(fpr,tpr)\n",
    "        return auroc\n",
    "    \n",
    "    def _aupro(self, y_preds:np.ndarray, y_trues:np.ndarray):\n",
    "        fprs, pros = calculate_aupro(y_preds, y_trues)\n",
    "        aupro = auc(fprs,pros)\n",
    "        return aupro \n",
    "    \n",
    "    def update(self, y_preds:torch.Tensor, y_trues:torch.Tensor) -> None:\n",
    "        '''\n",
    "        preds : torch.Tensor -> np.ndarray -> append in list \n",
    "        '''\n",
    "        self.preds.append(\n",
    "            self._detach(y_preds)\n",
    "        )\n",
    "        self.targets.append(\n",
    "            self._detach(y_trues)\n",
    "        )\n",
    "        \n",
    "        \n",
    "    def compute(self):        \n",
    "        y_preds = np.concatenate(self.preds) # (N,W,H)\n",
    "        y_trues = np.concatenate(self.targets) # (N,W,H)\n",
    "        \n",
    "        result_list = {}         \n",
    "        for metric in self.metric_list:\n",
    "            result_list[metric] = eval(f'self._{metric}')(y_preds, y_trues)            \n",
    "        return result_list "
   ]
  },
  {
   "cell_type": "code",
   "execution_count": 5,
   "metadata": {},
   "outputs": [
    {
     "data": {
      "text/plain": [
       "tensor([10., 20., 30.])"
      ]
     },
     "execution_count": 5,
     "metadata": {},
     "output_type": "execute_result"
    }
   ],
   "source": [
    "import torch \n",
    "torch.Tensor([10,20,30])"
   ]
  },
  {
   "cell_type": "code",
   "execution_count": 2,
   "metadata": {},
   "outputs": [
    {
     "name": "stderr",
     "output_type": "stream",
     "text": [
      "/usr/local/lib/python3.8/dist-packages/torchmetrics/utilities/prints.py:36: UserWarning: Metric `AUROC` will save all targets and predictions in buffer. For large datasets this may lead to large memory footprint.\n",
      "  warnings.warn(*args, **kwargs)\n"
     ]
    }
   ],
   "source": [
    "metric = MetricCalculator(\n",
    "    metric_list = ['auroc','average_precision']\n",
    ")"
   ]
  },
  {
   "cell_type": "code",
   "execution_count": null,
   "metadata": {},
   "outputs": [],
   "source": [
    "metric.update(torch.Tensor(scores), labels)\n"
   ]
  },
  {
   "cell_type": "code",
   "execution_count": null,
   "metadata": {},
   "outputs": [],
   "source": [
    "result = metric.compute()"
   ]
  },
  {
   "cell_type": "code",
   "execution_count": null,
   "metadata": {},
   "outputs": [],
   "source": [
    "result"
   ]
  },
  {
   "cell_type": "code",
   "execution_count": null,
   "metadata": {},
   "outputs": [],
   "source": [
    "result"
   ]
  }
 ],
 "metadata": {
  "kernelspec": {
   "display_name": "Python 3",
   "language": "python",
   "name": "python3"
  },
  "language_info": {
   "codemirror_mode": {
    "name": "ipython",
    "version": 3
   },
   "file_extension": ".py",
   "mimetype": "text/x-python",
   "name": "python",
   "nbconvert_exporter": "python",
   "pygments_lexer": "ipython3",
   "version": "3.8.10"
  }
 },
 "nbformat": 4,
 "nbformat_minor": 2
}
