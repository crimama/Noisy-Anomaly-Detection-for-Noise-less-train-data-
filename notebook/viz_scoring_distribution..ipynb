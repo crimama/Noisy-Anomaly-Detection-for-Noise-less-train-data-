{
 "cells": [
  {
   "cell_type": "code",
   "execution_count": 6,
   "metadata": {},
   "outputs": [],
   "source": [
    "import numpy as np\n",
    "import os\n",
    "os.chdir('/Volume/VAD/UAADF/')\n",
    "import torch\n",
    "from arguments import parser\n",
    "from torch.utils.data import DataLoader\n",
    "from datasets import create_dataset\n",
    "from accelerate import Accelerator\n",
    "import matplotlib.pyplot as plt \n",
    "import seaborn as sns \n",
    "from utils import img_show, img_cvt\n",
    "\n",
    "from main import torch_seed\n",
    "import random \n",
    "\n",
    "from query_strategies.sampler import SubsetSequentialSampler\n",
    "from query_strategies.refinement import Refinementer\n",
    "\n",
    "\n",
    "torch_seed(0)\n",
    "torch.autograd.set_detect_anomaly(True)\n",
    "os.environ['CUDA_VISIBLE_DEVICES'] = '0' \n",
    "\n",
    "default_setting = './configs/benchmark/pc_mvtecloco.yaml'\n",
    "cfg = parser(jupyter=True, default_setting = default_setting)\n",
    "cfg.DATASET.batch_size=8\n",
    "cfg.DATASET.class_name = 'breakfast_box'\n",
    "cfg.DATASET.params.anomaly_ratio = 0.0\n",
    "\n",
    "accelerator = Accelerator(\n",
    "    mixed_precision             = cfg.TRAIN.mixed_precision\n",
    ")\n",
    "\n",
    "# load dataset\n",
    "trainset, testset = create_dataset(\n",
    "    dataset_name  = cfg.DATASET.dataset_name,\n",
    "    datadir       = cfg.DATASET.datadir,\n",
    "    class_name    = cfg.DATASET.class_name,\n",
    "    img_size      = cfg.DATASET.img_size,\n",
    "    mean          = cfg.DATASET.mean,\n",
    "    std           = cfg.DATASET.std,\n",
    "    aug_info      = cfg.DATASET.aug_info,\n",
    "    **cfg.DATASET.get('params',{})\n",
    ")\n",
    "\n",
    "# make save directory\n",
    "savedir = os.path.join(\n",
    "                            cfg.DEFAULT.savedir,\n",
    "                            cfg.DATASET.dataset_name,\n",
    "                            cfg.DATASET.class_name\n",
    "                        )\n",
    "\n",
    "exp_name         = cfg.DEFAULT.exp_name\n",
    "method            = cfg.MODEL.method\n",
    "backbone          = cfg.MODEL.backbone\n",
    "model_params      = cfg.MODEL.get('params',{})\n",
    "\n",
    "batch_size       = cfg.DATASET.batch_size\n",
    "test_batch_size  = cfg.DATASET.test_batch_size\n",
    "num_workers      = cfg.DATASET.num_workers\n",
    "\n",
    "opt_name         = cfg.OPTIMIZER.opt_name \n",
    "lr               = cfg.OPTIMIZER.lr\n",
    "opt_params       = cfg.OPTIMIZER.get('params',{})\n",
    "\n",
    "epochs           = cfg.TRAIN.epochs\n",
    "log_interval     = cfg.TRAIN.log_interval\n",
    "use_wandb        = cfg.TRAIN.wandb.use\n",
    "\n",
    "savedir          = savedir\n",
    "seed             = cfg.DEFAULT.seed\n",
    "accelerator      = accelerator\n",
    "cfg              = cfg\n",
    "\n",
    "# # define train dataloader\n",
    "trainloader = DataLoader(\n",
    "    dataset     = trainset,\n",
    "    batch_size  = batch_size,\n",
    "    num_workers = num_workers,\n",
    "    shuffle     = False\n",
    ")\n",
    "\n",
    "# define test dataloader\n",
    "testloader = DataLoader(\n",
    "    dataset     = testset,\n",
    "    batch_size  = test_batch_size,\n",
    "    shuffle     = False,\n",
    "    num_workers = num_workers\n",
    ")\n",
    "\n",
    "refinement = Refinementer(\n",
    "        model          = __import__('models').__dict__[method](\n",
    "                           backbone = backbone,\n",
    "                           **model_params\n",
    "                           ),\n",
    "        n_query        = cfg.REFINEMENT.n_query,\n",
    "        dataset        = trainset,\n",
    "        unrefined_idx  = np.ones(len(trainset)).astype(np.bool8),\n",
    "        batch_size     = batch_size,\n",
    "        test_transform = testset.transform,\n",
    "        num_workers    = num_workers\n",
    "    )\n",
    "model = refinement.init_model()\n",
    "device = cfg.MODEL.params.device"
   ]
  },
  {
   "cell_type": "code",
   "execution_count": 7,
   "metadata": {},
   "outputs": [
    {
     "name": "stderr",
     "output_type": "stream",
     "text": [
      "Computing support features...: 100%|██████████| 44/44 [00:07<00:00,  5.58it/s]\n",
      "Subsampling...: 100%|██████████| 27518/27518 [00:22<00:00, 1228.16it/s]\n"
     ]
    }
   ],
   "source": [
    "for imgs, labels, gts in trainloader:\n",
    "    output = model(imgs.to(device))\n",
    "    loss = model.criterion(output)\n",
    "model.fit()"
   ]
  },
  {
   "cell_type": "code",
   "execution_count": 12,
   "metadata": {},
   "outputs": [],
   "source": [
    "from utils.metrics import MetricCalculator, loco_auroc\n",
    "\n",
    "model.eval()\n",
    "img_level = MetricCalculator(metric_list = ['auroc','average_precision','confusion_matrix'])\n",
    "pix_level = MetricCalculator(metric_list = ['auroc','average_precision','confusion_matrix','aupro'])\n",
    "\n",
    "results = {} \n",
    "for idx, (images, labels, gts) in enumerate(testloader):\n",
    "    \n",
    "    # predict\n",
    "    if model.__class__.__name__ in ['PatchCore']:\n",
    "        score, score_map = model.get_score_map(images)\n",
    "    else:\n",
    "        with torch.no_grad():\n",
    "            outputs = model(images)   \n",
    "            score_map = model.get_score_map(outputs).detach().cpu()\n",
    "            score = score_map.reshape(score_map.shape[0],-1).max(-1)[0]\n",
    "            \n",
    "    # Stack Scoring for metrics \n",
    "    pix_level.update(score_map,gts.type(torch.int))\n",
    "    img_level.update(score, labels.type(torch.int))\n",
    "    \n",
    "p_results = pix_level.compute()\n",
    "i_results = img_level.compute()\n",
    "    \n",
    "results['loco_auroc'] = loco_auroc(pix_level,testloader)\n",
    "results['loco_auroc'] = loco_auroc(img_level,testloader)    "
   ]
  },
  {
   "cell_type": "code",
   "execution_count": null,
   "metadata": {},
   "outputs": [],
   "source": [
    "from copy import deepcopy "
   ]
  },
  {
   "cell_type": "code",
   "execution_count": 13,
   "metadata": {},
   "outputs": [
    {
     "data": {
      "image/png": "[encoded data removed]",
      "text/plain": [
       "<Figure size 720x504 with 2 Axes>"
      ]
     },
     "metadata": {
      "needs_background": "light"
     },
     "output_type": "display_data"
    }
   ],
   "source": [
    "pix_preds_0 = deepcopy(pix_level.preds.flatten())\n",
    "pix_targets_0 = deepcopy(pix_level.targets.flatten())\n",
    "\n",
    "fig = plt.figure(figsize=(10,7))\n",
    "ax1 = fig.add_subplot()\n",
    "\n",
    "ax1.hist(pix_preds_0[np.where(pix_targets_0 == 0)[0]], bins=20, alpha=0.5)\n",
    "\n",
    "ax2 = ax1.twinx()\n",
    "ax2.hist(pix_preds_0[np.where(pix_targets_0 == 1)[0]], color='r', bins=20,alpha=0.5)\n",
    "plt.show()"
   ]
  },
  {
   "cell_type": "code",
   "execution_count": 14,
   "metadata": {},
   "outputs": [
    {
     "data": {
      "image/png": "[encoded data removed]",
      "text/plain": [
       "<Figure size 720x504 with 2 Axes>"
      ]
     },
     "metadata": {
      "needs_background": "light"
     },
     "output_type": "display_data"
    }
   ],
   "source": [
    "#pix_preds_2 = deepcopy(pix_level.preds.flatten())\n",
    "#pix_targets_2 = deepcopy(pix_level.targets.flatten())\n",
    "\n",
    "fig = plt.figure(figsize=(10,7))\n",
    "ax1 = fig.add_subplot()\n",
    "\n",
    "ax1.hist(pix_preds_2[np.where(pix_targets_2 == 0)[0]], bins=20, alpha=0.5)\n",
    "\n",
    "ax2 = ax1.twinx()\n",
    "ax2.hist(pix_preds_2[np.where(pix_targets_2 == 1)[0]], color='r', bins=20,alpha=0.5)\n",
    "plt.show()"
   ]
  },
  {
   "cell_type": "code",
   "execution_count": 21,
   "metadata": {},
   "outputs": [
    {
     "data": {
      "image/png": "[encoded data removed]",
      "text/plain": [
       "<Figure size 720x504 with 1 Axes>"
      ]
     },
     "metadata": {
      "needs_background": "light"
     },
     "output_type": "display_data"
    }
   ],
   "source": [
    "plt.figure(figsize=(10,7))\n",
    "plt.hist(pix_preds_0[np.where(pix_targets_0 == 0)[0]], bins=20, alpha=0.5,color='b')\n",
    "plt.hist(pix_preds_2[np.where(pix_targets_2 == 0)[0]], bins=20, alpha=0.5,color='r')\n",
    "\n",
    "plt.show()"
   ]
  },
  {
   "cell_type": "code",
   "execution_count": 20,
   "metadata": {},
   "outputs": [
    {
     "data": {
      "image/png": "[encoded data removed]",
      "text/plain": [
       "<Figure size 720x504 with 1 Axes>"
      ]
     },
     "metadata": {
      "needs_background": "light"
     },
     "output_type": "display_data"
    }
   ],
   "source": [
    "plt.figure(figsize=(10,7))\n",
    "plt.hist(pix_preds_0[np.where(pix_targets_0 == 1)[0]], bins=20, alpha=0.5,color='b')\n",
    "plt.hist(pix_preds_2[np.where(pix_targets_2 == 1)[0]], bins=20, alpha=0.5,color='r')\n",
    "\n",
    "plt.show()"
   ]
  }
 ],
 "metadata": {
  "kernelspec": {
   "display_name": "Python 3 (ipykernel)",
   "language": "python",
   "name": "python3"
  },
  "language_info": {
   "codemirror_mode": {
    "name": "ipython",
    "version": 3
   },
   "file_extension": ".py",
   "mimetype": "text/x-python",
   "name": "python",
   "nbconvert_exporter": "python",
   "pygments_lexer": "ipython3",
   "version": "3.8.10"
  }
 },
 "nbformat": 4,
 "nbformat_minor": 4
}
