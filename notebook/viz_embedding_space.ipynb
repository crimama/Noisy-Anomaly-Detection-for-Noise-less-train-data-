{
 "cells": [
  {
   "cell_type": "code",
   "execution_count": 1,
   "metadata": {},
   "outputs": [],
   "source": [
    "import numpy as np\n",
    "import os\n",
    "os.chdir('/Volume/VAD/UAADF/')\n",
    "import torch\n",
    "from arguments import parser\n",
    "from torch.utils.data import DataLoader\n",
    "from datasets import create_dataset\n",
    "from accelerate import Accelerator\n",
    "import matplotlib.pyplot as plt \n",
    "import seaborn as sns \n",
    "from utils import img_show, img_cvt\n",
    "\n",
    "from main import torch_seed\n",
    "import random \n",
    "\n",
    "from refinement.sampler import SubsetSequentialSampler\n",
    "from refinement.refinement import Refinementer\n",
    "\n",
    "\n",
    "torch_seed(0)\n",
    "torch.autograd.set_detect_anomaly(True)\n",
    "os.environ['CUDA_VISIBLE_DEVICES'] = '0' \n",
    "\n",
    "def prepare(dataset, class_name, anomaly_ratio, baseline,weight_method):\n",
    "    dataset = 'pc_mvtecad' if dataset == 'mvtecad' else 'pc_mvtecloco'\n",
    "    default_setting = f'./configs/benchmark/{dataset}.yaml'\n",
    "    cfg = parser(jupyter=True, default_setting = default_setting)\n",
    "    cfg.DATASET.class_name = class_name \n",
    "    cfg.DATASET.params.anomaly_ratio = anomaly_ratio\n",
    "    cfg.DATASET.params.baseline = baseline \n",
    "    cfg.MODEL.params.weight_method = weight_method \n",
    "    \n",
    "    trainset, testset = create_dataset(\n",
    "    dataset_name  = cfg.DATASET.dataset_name,\n",
    "    datadir       = cfg.DATASET.datadir,\n",
    "    class_name    = cfg.DATASET.class_name,\n",
    "    img_size      = cfg.DATASET.img_size,\n",
    "    mean          = cfg.DATASET.mean,\n",
    "    std           = cfg.DATASET.std,\n",
    "    aug_info      = cfg.DATASET.aug_info,\n",
    "    **cfg.DATASET.get('params',{})\n",
    ")\n",
    "\n",
    "    method            = cfg.MODEL.method\n",
    "    backbone          = cfg.MODEL.backbone\n",
    "    model_params      = cfg.MODEL.get('params',{})\n",
    "\n",
    "    batch_size       = cfg.DATASET.batch_size\n",
    "    test_batch_size  = cfg.DATASET.test_batch_size\n",
    "    num_workers      = cfg.DATASET.num_workers\n",
    "\n",
    "    # # define train dataloader\n",
    "    trainloader = DataLoader(\n",
    "        dataset     = trainset,\n",
    "        batch_size  = batch_size,\n",
    "        num_workers = num_workers,\n",
    "        shuffle     = False\n",
    "    )\n",
    "\n",
    "    # define test dataloader\n",
    "    testloader = DataLoader(\n",
    "        dataset     = testset,\n",
    "        batch_size  = test_batch_size,\n",
    "        shuffle     = False,\n",
    "        num_workers = num_workers\n",
    "    )\n",
    "\n",
    "    refinement = Refinementer(\n",
    "            model          = __import__('models').__dict__[method](\n",
    "                            backbone = backbone,\n",
    "                            **model_params\n",
    "                            ),\n",
    "            n_query        = cfg.REFINEMENT.n_query,\n",
    "            dataset        = trainset,\n",
    "            unrefined_idx  = np.ones(len(trainset)).astype(np.bool8),\n",
    "            batch_size     = batch_size,\n",
    "            test_transform = testset.transform,\n",
    "            num_workers    = num_workers\n",
    "        )\n",
    "    model = refinement.init_model()\n",
    "    device = cfg.MODEL.params.device\n",
    "    \n",
    "    output = {}\n",
    "    output['trainloader'], output['testloader'], output['model'], output['device']  = trainloader, testloader, model, device\n",
    "    \n",
    "    return output \n",
    "\n",
    "def train(trainloader, device, model):\n",
    "    for imgs, labels, gts in trainloader:\n",
    "        output = model(imgs.to(device))\n",
    "        loss = model.criterion(output)\n",
    "    model.fit()\n",
    "    \n",
    "def evaluation(testloader, device, model, loco = False):\n",
    "    from utils.metrics import MetricCalculator, loco_auroc\n",
    "\n",
    "    model.eval()\n",
    "    img_level = MetricCalculator(metric_list = ['auroc','average_precision','confusion_matrix'])\n",
    "    pix_level = MetricCalculator(metric_list = ['auroc','average_precision','confusion_matrix','aupro'])\n",
    "\n",
    "    results = {} \n",
    "    for idx, (images, labels, gts) in enumerate(testloader):\n",
    "        \n",
    "        # predict\n",
    "        if model.__class__.__name__ in ['PatchCore']:\n",
    "            score, score_map = model.get_score_map(images)\n",
    "        else:\n",
    "            with torch.no_grad():\n",
    "                outputs = model(images)   \n",
    "                score_map = model.get_score_map(outputs).detach().cpu()\n",
    "                score = score_map.reshape(score_map.shape[0],-1).max(-1)[0]\n",
    "                \n",
    "        # Stack Scoring for metrics \n",
    "        pix_level.update(score_map,gts.type(torch.int))\n",
    "        img_level.update(score, labels.type(torch.int))\n",
    "        \n",
    "    p_results = pix_level.compute()\n",
    "    i_results = img_level.compute()\n",
    "    \n",
    "    \n",
    "    if loco:\n",
    "        results['loco_auroc'] = loco_auroc(pix_level,testloader)\n",
    "        results['loco_auroc'] = loco_auroc(img_level,testloader)    \n",
    "        return p_results, i_results, results \n",
    "    else:         \n",
    "        return p_results, i_results\n",
    "\n",
    "def patch_scoring(testloader, model):\n",
    "    self = model \n",
    "    score_list = [] \n",
    "    for imgs, labels, gts in testloader: \n",
    "        images = imgs.to(torch.float).to(self.device)\n",
    "        _ = self.forward_modules.eval()\n",
    "\n",
    "        with torch.no_grad():\n",
    "            features, patch_shapes = self._embed(images, provide_patch_shapes=True)\n",
    "            features = np.asarray(features)\n",
    "\n",
    "            image_scores, _, indices = self.anomaly_scorer.predict([features])\n",
    "        \n",
    "        score_list.append(image_scores)\n",
    "    score_list = np.concatenate(score_list)\n",
    "    return score_list "
   ]
  },
  {
   "cell_type": "code",
   "execution_count": 2,
   "metadata": {},
   "outputs": [],
   "source": [
    "capsule_soft = prepare('mvtecad','capsule',0.0,False,'lof')\n",
    "capsule_patch = prepare('mvtecad','capsule',0.0,False,'identity')\n",
    "\n",
    "# train(capsule_soft['trainloader'], capsule_soft['device'], capsule_soft['model'])\n",
    "# train(capsule_patch['trainloader'], capsule_patch['device'], capsule_patch['model'])"
   ]
  },
  {
   "cell_type": "code",
   "execution_count": 3,
   "metadata": {},
   "outputs": [
    {
     "name": "stderr",
     "output_type": "stream",
     "text": [
      "Computing support features...: 100%|██████████| 7/7 [00:04<00:00,  1.51it/s]\n",
      "Subsampling...: 100%|██████████| 17169/17169 [00:08<00:00, 1915.66it/s]\n"
     ]
    }
   ],
   "source": [
    "model, trainloader, device = capsule_soft['model'], capsule_soft['trainloader'], capsule_soft['device'] \n",
    "for imgs, labels, gts in trainloader:\n",
    "    output = model(imgs.to(device))\n",
    "self= model     \n",
    "\n",
    "import tqdm \n",
    "_ = self.forward_modules.eval()\n",
    "\n",
    "def _image_to_features(input_image):\n",
    "    with torch.no_grad():\n",
    "        input_image = input_image.to(torch.float).to(self.device)\n",
    "        return self._embed(input_image)\n",
    "\n",
    "features = []\n",
    "with tqdm.tqdm(self.data, desc=\"Computing support features...\", leave=True) as data_iterator:\n",
    "    for image in data_iterator:\n",
    "        if isinstance(image, dict):\n",
    "            image = image[\"image\"]\n",
    "        features.append(_image_to_features(image))\n",
    "        \n",
    "features = np.concatenate(features, axis=0)    \n",
    "\n",
    "with torch.no_grad():\n",
    "    # pdb.set_trace()\n",
    "    self.feature_shape = self._embed(image.to(torch.float).to(self.device), provide_patch_shapes=True)[1][0]\n",
    "    patch_weight = self._compute_patch_weight(features) # <- get outlier score \n",
    "\n",
    "    # normalization\n",
    "    # patch_weight = (patch_weight - patch_weight.quantile(0.5, dim=1, keepdim=True)).reshape(-1) + 1\n",
    "\n",
    "    patch_weight = patch_weight.reshape(-1)\n",
    "    threshold = torch.quantile(patch_weight, 1 - self.threshold)\n",
    "    sampling_weight = torch.where(patch_weight > threshold, 0, 1) \n",
    "    self.featuresampler.set_sampling_weight(sampling_weight) # <- subsampling data which has outlier score under thresholding\n",
    "    self.patch_weight = patch_weight.clamp(min=0)\n",
    "    sample_features, sample_indices = self.featuresampler.run(features)    "
   ]
  },
  {
   "cell_type": "code",
   "execution_count": 10,
   "metadata": {},
   "outputs": [],
   "source": [
    "score_list = patch_scoring(capsule_soft['testloader'],capsule_soft['model'])"
   ]
  },
  {
   "cell_type": "code",
   "execution_count": 10,
   "metadata": {},
   "outputs": [
    {
     "name": "stderr",
     "output_type": "stream",
     "text": [
      "/usr/local/lib/python3.8/dist-packages/sklearn/manifold/_t_sne.py:780: FutureWarning: The default initialization in TSNE will change from 'random' to 'pca' in 1.2.\n",
      "  warnings.warn(\n",
      "/usr/local/lib/python3.8/dist-packages/sklearn/manifold/_t_sne.py:790: FutureWarning: The default learning rate in TSNE will change from 200.0 to 'auto' in 1.2.\n",
      "  warnings.warn(\n"
     ]
    }
   ],
   "source": [
    "from sklearn.manifold import TSNE \n",
    "\n",
    "tsne = TSNE(n_components=2, random_state=42)\n",
    "tsne_result = tsne.fit_transform(features[:10,:])"
   ]
  },
  {
   "cell_type": "code",
   "execution_count": 20,
   "metadata": {},
   "outputs": [
    {
     "name": "stderr",
     "output_type": "stream",
     "text": [
      "/usr/local/lib/python3.8/dist-packages/numpy/lib/npyio.py:518: VisibleDeprecationWarning: Creating an ndarray from ragged nested sequences (which is a list-or-tuple of lists-or-tuples-or ndarrays with different lengths or shapes) is deprecated. If you meant to do this, you must specify 'dtype=object' when creating the ndarray.\n",
      "  arr = np.asanyarray(arr)\n"
     ]
    }
   ],
   "source": [
    "np.save('./temp.npy',[tsne_result, sample_indices],allow_pickle=True)"
   ]
  },
  {
   "cell_type": "code",
   "execution_count": 2,
   "metadata": {},
   "outputs": [],
   "source": [
    "import os \n",
    "\n",
    "os.chdir('../')"
   ]
  },
  {
   "cell_type": "code",
   "execution_count": 3,
   "metadata": {},
   "outputs": [],
   "source": [
    "\n",
    "import numpy as np \n",
    "temp2 = np.load('./tsne_result.npy',allow_pickle=True)"
   ]
  },
  {
   "cell_type": "code",
   "execution_count": 4,
   "metadata": {},
   "outputs": [],
   "source": [
    "tsne_result, sample_indices = temp2"
   ]
  },
  {
   "cell_type": "code",
   "execution_count": 7,
   "metadata": {},
   "outputs": [],
   "source": [
    "indices = np.arange(len(tsne_result))"
   ]
  },
  {
   "cell_type": "code",
   "execution_count": 8,
   "metadata": {},
   "outputs": [],
   "source": [
    "import pandas as pd \n",
    "\n",
    "indices = indices[pd.Series(indices).apply(lambda x : x not in sample_indices).values]"
   ]
  },
  {
   "cell_type": "code",
   "execution_count": 44,
   "metadata": {},
   "outputs": [
    {
     "data": {
      "image/png": "[encoded data removed]",
      "text/plain": [
       "<Figure size 720x720 with 1 Axes>"
      ]
     },
     "metadata": {
      "needs_background": "light"
     },
     "output_type": "display_data"
    }
   ],
   "source": [
    "import matplotlib.pyplot as plt \n",
    "plt.figure(figsize=(10,10))\n",
    "\n",
    "w = 21\n",
    "h = 26\n",
    "plt.scatter(\n",
    "    tsne_result.reshape(-1,28,28,2)[:,w,h,:][:,0],tsne_result.reshape(-1,28,28,2)[:,w,h,:][:,1],\n",
    "    c = 'b',\n",
    "    marker ='o'\n",
    ")\n",
    "\n",
    "# plt.scatter(\n",
    "#     tsne_result[sample_indices][:,0],tsne_result[sample_indices][:,1],\n",
    "#     c = 'r',\n",
    "#     marker ='v'\n",
    "# )\n",
    "plt.tight_layout()"
   ]
  },
  {
   "cell_type": "code",
   "execution_count": 17,
   "metadata": {},
   "outputs": [
    {
     "data": {
      "text/plain": [
       "219.0"
      ]
     },
     "execution_count": 17,
     "metadata": {},
     "output_type": "execute_result"
    }
   ],
   "source": [
    "171696/28/28"
   ]
  },
  {
   "cell_type": "code",
   "execution_count": 26,
   "metadata": {},
   "outputs": [
    {
     "data": {
      "text/plain": [
       "(219, 2)"
      ]
     },
     "execution_count": 26,
     "metadata": {},
     "output_type": "execute_result"
    }
   ],
   "source": []
  }
 ],
 "metadata": {
  "kernelspec": {
   "display_name": "Python 3",
   "language": "python",
   "name": "python3"
  },
  "language_info": {
   "codemirror_mode": {
    "name": "ipython",
    "version": 3
   },
   "file_extension": ".py",
   "mimetype": "text/x-python",
   "name": "python",
   "nbconvert_exporter": "python",
   "pygments_lexer": "ipython3",
   "version": "3.8.10"
  }
 },
 "nbformat": 4,
 "nbformat_minor": 2
}
