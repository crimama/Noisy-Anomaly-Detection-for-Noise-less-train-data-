{
 "cells": [
  {
   "cell_type": "code",
   "execution_count": 2,
   "metadata": {},
   "outputs": [],
   "source": [
    "import numpy as np\n",
    "import pandas as pd \n",
    "import matplotlib.pyplot as plt \n",
    "import seaborn\n",
    "import os\n",
    "os.chdir('/Volume/VAD/UAADF/')\n",
    "import torch\n",
    "import torch.nn as nn \n",
    "import  torch.nn.functional as F \n",
    "from arguments import parser\n",
    "from torch.utils.data import DataLoader\n",
    "from datasets import create_dataset\n",
    "from accelerate import Accelerator\n",
    "import matplotlib.pyplot as plt \n",
    "import seaborn as sns \n",
    "from utils import img_show, img_cvt\n",
    "\n",
    "from main import torch_seed\n",
    "import random \n",
    "\n",
    "from query_strategies.sampler import SubsetSequentialSampler\n",
    "from query_strategies.refinement import Refinementer\n",
    "\n",
    "\n",
    "torch_seed(0)\n",
    "torch.autograd.set_detect_anomaly(True)\n",
    "os.environ['CUDA_VISIBLE_DEVICES'] = '0' \n",
    "\n",
    "def prepare(dataset, class_name, anomaly_ratio, baseline, weight_method, threshold):\n",
    "    dataset = 'pc_mvtecad' if dataset == 'mvtecad' else 'pc_mvtecloco'\n",
    "    default_setting = f'./configs/benchmark/{dataset}.yaml'\n",
    "    cfg = parser(jupyter=True, default_setting = default_setting)\n",
    "    cfg.DATASET.class_name = class_name \n",
    "    cfg.DATASET.params.anomaly_ratio = anomaly_ratio\n",
    "    cfg.DATASET.params.baseline = baseline \n",
    "    cfg.MODEL.params.weight_method = weight_method \n",
    "    cfg.MODEL.params.threshold = threshold\n",
    "    \n",
    "    trainset, testset = create_dataset(\n",
    "        dataset_name  = cfg.DATASET.dataset_name,\n",
    "        datadir       = cfg.DATASET.datadir,\n",
    "        class_name    = cfg.DATASET.class_name,\n",
    "        img_size      = cfg.DATASET.img_size,\n",
    "        mean          = cfg.DATASET.mean,\n",
    "        std           = cfg.DATASET.std,\n",
    "        aug_info      = cfg.DATASET.aug_info,\n",
    "        **cfg.DATASET.get('params',{})\n",
    "    )\n",
    "\n",
    "    method            = cfg.MODEL.method\n",
    "    backbone          = cfg.MODEL.backbone\n",
    "    model_params      = cfg.MODEL.get('params',{})\n",
    "\n",
    "    batch_size       = cfg.DATASET.batch_size\n",
    "    test_batch_size  = cfg.DATASET.test_batch_size\n",
    "    num_workers      = cfg.DATASET.num_workers\n",
    "\n",
    "    # # define train dataloader\n",
    "    trainloader = DataLoader(\n",
    "        dataset     = trainset,\n",
    "        batch_size  = batch_size,\n",
    "        num_workers = num_workers,\n",
    "        shuffle     = False\n",
    "    )\n",
    "\n",
    "    # define test dataloader\n",
    "    testloader = DataLoader(\n",
    "        dataset     = testset,\n",
    "        batch_size  = test_batch_size,\n",
    "        shuffle     = False,\n",
    "        num_workers = num_workers\n",
    "    )\n",
    "\n",
    "    refinement = Refinementer(\n",
    "            model          = __import__('models').__dict__[method](\n",
    "                            backbone = backbone,\n",
    "                            **model_params\n",
    "                            ),\n",
    "            n_query        = cfg.REFINEMENT.n_query,\n",
    "            dataset        = trainset,\n",
    "            unrefined_idx  = np.ones(len(trainset)).astype(np.bool8),\n",
    "            batch_size     = batch_size,\n",
    "            test_transform = testset.transform,\n",
    "            num_workers    = num_workers\n",
    "        )\n",
    "    model = refinement.init_model()\n",
    "    device = cfg.MODEL.params.device\n",
    "    \n",
    "    output = {}\n",
    "    output['trainloader'], output['testloader'], output['model'], output['device']  = trainloader, testloader, model, device\n",
    "    \n",
    "    return output \n",
    "\n",
    "def train(inputs):\n",
    "    trainloader, device, model = inputs['trainloader'], inputs['device'], inputs['model']\n",
    "    for imgs, labels, gts in trainloader:\n",
    "        output = model(imgs.to(device))\n",
    "        loss = model.criterion(output)\n",
    "    model.fit()\n",
    "    \n",
    "def evaluation(inputs, loco = False):\n",
    "    testloader,  model = inputs['testloader'], inputs['model']\n",
    "    from utils.metrics import MetricCalculator, loco_auroc\n",
    "\n",
    "    model.eval()\n",
    "    img_level = MetricCalculator(metric_list = ['auroc','average_precision','confusion_matrix'])\n",
    "    pix_level = MetricCalculator(metric_list = ['auroc','average_precision','confusion_matrix','aupro'])\n",
    "\n",
    "    results = {} \n",
    "    for idx, (images, labels, gts) in enumerate(testloader):\n",
    "        \n",
    "        # predict\n",
    "        if model.__class__.__name__ in ['PatchCore']:\n",
    "            score, score_map = model.get_score_map(images)\n",
    "                \n",
    "        # Stack Scoring for metrics \n",
    "        pix_level.update(score_map,gts.type(torch.int))\n",
    "        img_level.update(score, labels.type(torch.int))\n",
    "        \n",
    "    p_results = pix_level.compute()\n",
    "    i_results = img_level.compute()\n",
    "    \n",
    "    \n",
    "    if loco:\n",
    "        results['loco_auroc'] = loco_auroc(pix_level,testloader)\n",
    "        results['loco_auroc'] = loco_auroc(img_level,testloader)    \n",
    "        return p_results, i_results, results \n",
    "    else:         \n",
    "        return p_results, i_results\n",
    "\n",
    "def patch_scoring(testloader, model):\n",
    "    self = model \n",
    "    score_list = [] \n",
    "    for imgs, labels, gts in testloader: \n",
    "        images = imgs.to(torch.float).to(self.device)\n",
    "        _ = self.forward_modules.eval()\n",
    "\n",
    "        with torch.no_grad():\n",
    "            features, patch_shapes = self._embed(images, provide_patch_shapes=True)\n",
    "            features = np.asarray(features)\n",
    "\n",
    "            image_scores, _, indices = self.anomaly_scorer.predict([features])\n",
    "        \n",
    "        score_list.append(image_scores)\n",
    "    score_list = np.concatenate(score_list)\n",
    "    return score_list \n",
    "\n",
    "def test_scoring(inputs):\n",
    "    'test 데이터들의 각 anomaly score 산출'\n",
    "    score_list = [] \n",
    "    score_map_list = [] \n",
    "    with torch.no_grad():\n",
    "        for imgs, labels, gts in inputs['testloader']:\n",
    "            score, score_map = inputs['model'].get_score_map(imgs)\n",
    "            score_list.append(score)\n",
    "            score_map_list.append(score_map)\n",
    "    S = np.concatenate(score_list)\n",
    "    SM = np.concatenate(score_map_list)\n",
    "    return S, SM \n",
    "\n",
    "def scaling(inputs):\n",
    "    inputs = (inputs - np.min(inputs)) / (np.max(inputs) - np.min(inputs))\n",
    "    return inputs \n",
    "        \n",
    "        \n",
    "def get_indicies(inputs, lof:bool = False):\n",
    "    '''\n",
    "    denoising 한 index와 coreset index 구하는 메소드 \n",
    "    '''\n",
    "    self = inputs['model']\n",
    "    \n",
    "    train_embeddings = np.vstack([inputs['model'].embed(d.to('cuda')) for d,_,_ in inputs['trainloader']])\n",
    "    features = train_embeddings\n",
    "    \n",
    "    if lof:\n",
    "        with torch.no_grad():\n",
    "            # pdb.set_trace()\n",
    "            self.feature_shape = [28,28]\n",
    "            patch_weight = self._compute_patch_weight(features) # <- get outlier score \n",
    "\n",
    "            # normalization\n",
    "            # patch_weight = (patch_weight - patch_weight.quantile(0.5, dim=1, keepdim=True)).reshape(-1) + 1\n",
    "\n",
    "            patch_weight = patch_weight.reshape(-1)\n",
    "            threshold = torch.quantile(patch_weight, 1 - self.threshold)\n",
    "            sampling_weight = torch.where(patch_weight > threshold, 0, 1) #! sampling_weight = denoising 한 index \n",
    "            #self.featuresampler.set_sampling_weight(sampling_weight) # <- subsampling data which has outlier score under thresholding\n",
    "            #self.patch_weight = patch_weight.clamp(min=0)\n",
    "    \n",
    "    sample_features, sample_indices = self.featuresampler.run(features) #! sample_indices = coreset index         \n",
    "                \n",
    "    if lof:\n",
    "        return {'denoising':sampling_weight.detach().cpu(), 'coreset': sample_indices}\n",
    "    else:\n",
    "        return {'coreset': sample_indices}\n",
    "                \n"
   ]
  },
  {
   "cell_type": "markdown",
   "metadata": {},
   "source": [
    "# Denoising AutoEncoder "
   ]
  },
  {
   "cell_type": "code",
   "execution_count": 5,
   "metadata": {},
   "outputs": [
    {
     "name": "stderr",
     "output_type": "stream",
     "text": [
      "Computing support features...: 100%|██████████| 10/10 [00:06<00:00,  1.61it/s]\n",
      "Subsampling...: 100%|██████████| 25088/25088 [00:18<00:00, 1356.95it/s]\n"
     ]
    }
   ],
   "source": [
    "inputs = prepare('mvtecad','screw',0.2,False,'lof',0.15)\n",
    "train(inputs)\n",
    "#p_results, i_results = evaluation(inputs)\n",
    "model = inputs['model']"
   ]
  },
  {
   "cell_type": "code",
   "execution_count": 4,
   "metadata": {},
   "outputs": [],
   "source": [
    "import torch.nn as nn \n",
    "class ConvDenoiser(nn.Module):\n",
    "    def __init__(self):\n",
    "        super(ConvDenoiser, self).__init__()\n",
    "        ## encoder layers ##\n",
    "        self.conv1 = nn.Conv2d(128, 256, 3, padding=1)  \n",
    "        self.conv2 = nn.Conv2d(256, 512, 3, padding=1)\n",
    "        self.pool = nn.MaxPool2d(2, 2)\n",
    "        \n",
    "        ## decoder layers ##\n",
    "        # transpose layer, a kernel of 2 and a stride of 2 will increase the spatial dims by 2\n",
    "        self.t_conv1 = nn.ConvTranspose2d(4096, 4096, 1, stride=2)  # kernel_size=3 to get to a 7x7 image output\n",
    "        # two more transpose layers with a kernel of 2\n",
    "        self.t_conv2 = nn.ConvTranspose2d(, 16, 2, stride=2)\n",
    "        # one, final, normal conv layer to decrease the depth\n",
    "        self.conv_out = nn.Conv2d(32, 1, 3, padding=1)\n",
    "\n",
    "\n",
    "    def forward(self, x):\n",
    "        ## encode ##\n",
    "        # add hidden layers with relu activation function\n",
    "        # and maxpooling after\n",
    "        x = F.relu(self.conv1(x))\n",
    "        x = self.pool(x)\n",
    "        # add second hidden layer\n",
    "        x = F.relu(self.conv2(x))\n",
    "        x = self.pool(x)\n",
    "        # add third hidden layer\n",
    "        x = F.relu(self.conv3(x))\n",
    "        x = self.pool(x)  # compressed representation\n",
    "        \n",
    "        ## decode ##\n",
    "        # add transpose conv layers, with relu activation function\n",
    "        x = F.relu(self.t_conv1(x))\n",
    "        x = F.relu(self.t_conv2(x))\n",
    "        x = F.relu(self.t_conv3(x))\n",
    "        # transpose again, output should have a sigmoid applied\n",
    "        x = F.sigmoid(self.conv_out(x))\n",
    "                \n",
    "        return x"
   ]
  },
  {
   "cell_type": "code",
   "execution_count": 2,
   "metadata": {},
   "outputs": [
    {
     "name": "stderr",
     "output_type": "stream",
     "text": [
      "Computing support features...: 100%|██████████| 10/10 [00:06<00:00,  1.63it/s]\n",
      "Subsampling...: 100%|██████████| 25088/25088 [00:18<00:00, 1369.73it/s]\n"
     ]
    }
   ],
   "source": [
    "results = [] \n",
    "sns.set(style=\"whitegrid\")  # Set the background style\n",
    "\n",
    "\n",
    "\n",
    "for i,ar in enumerate([0.2]):\n",
    "    inputs = prepare('mvtecad','screw',ar,False,'lof', 0.15)\n",
    "    trainloader, device, model = inputs['trainloader'], inputs['device'], inputs['model']\n",
    "\n",
    "    labels = list() \n",
    "    for imgs, label, gts in trainloader:\n",
    "        labels.append(label.detach().cpu().numpy())\n",
    "    labels = np.concatenate(labels)    \n",
    "    train(inputs)\n",
    "\n",
    "    sample_indices = model.sample_indices\n",
    "    coreset_labels = [] \n",
    "    for idx in sample_indices:\n",
    "        i_idx = idx//784    \n",
    "        coreset_labels.append(labels[i_idx])\n",
    "        \n",
    "    result = dict(pd.Series(coreset_labels).value_counts())    \n",
    "    results.append(result)\n",
    "    \n",
    "    patch_weight = model.patch_weight.detach().cpu().numpy()    \n",
    "    coreset_weight = patch_weight[sample_indices]        \n",
    "    \n",
    "    sampling_weight = model.sampling_weight\n",
    "    \n",
    "coreset_indicies = sample_indices\n",
    "denoise_indicies = np.where(sampling_weight==0)[0]"
   ]
  },
  {
   "cell_type": "code",
   "execution_count": 15,
   "metadata": {},
   "outputs": [
    {
     "data": {
      "image/png": "[encoded data removed]",
      "text/plain": [
       "<Figure size 720x432 with 1 Axes>"
      ]
     },
     "metadata": {
      "needs_background": "light"
     },
     "output_type": "display_data"
    }
   ],
   "source": [
    "import pandas as pd\n",
    "import seaborn as sns\n",
    "import matplotlib.pyplot as plt\n",
    "\n",
    "\n",
    "# 각 행의 총합 계산\n",
    "df['total'] = df.sum(axis=1)\n",
    "\n",
    "# 각 행의 값을 해당 행의 총합으로 나누어 비율 계산\n",
    "df_ratios = df[[0,1]].div(df['total'], axis=0)\n",
    "\n",
    "# row index를 변경\n",
    "df_ratios.index = [0,0.05,0.1,0.15,0.2]\n",
    "\n",
    "# Seaborn을 사용하여 누적 영역형 그래프 그리기\n",
    "plt.figure(figsize=(10, 6))\n",
    "\n",
    "sns.lineplot(data=df_ratios, dashes=False, palette=\"Set1\")\n",
    "plt.fill_between(df_ratios.index, 0, df_ratios[0], alpha=0.5, label='Normal')\n",
    "plt.fill_between(df_ratios.index, df_ratios[0], df_ratios[0] + df_ratios[1], alpha=0.5, label='Anomaly')\n",
    "\n",
    "\n",
    "plt.xlabel('Modified Row Index')\n",
    "plt.ylabel('Ratio')\n",
    "plt.xticks([0,0.05,0.1,0.15,0.2])\n",
    "plt.legend()\n",
    "plt.show()\n"
   ]
  },
  {
   "cell_type": "code",
   "execution_count": 43,
   "metadata": {},
   "outputs": [],
   "source": [
    "import pandas as pd \n"
   ]
  },
  {
   "cell_type": "code",
   "execution_count": 6,
   "metadata": {},
   "outputs": [],
   "source": [
    "lof_score = model.patch_weight.detach().cpu().numpy()\n",
    "lof_score = lof_score.reshape(320,28,28)"
   ]
  },
  {
   "cell_type": "code",
   "execution_count": 18,
   "metadata": {},
   "outputs": [
    {
     "data": {
      "image/png": "[encoded data removed]",
      "text/plain": [
       "<Figure size 720x720 with 1 Axes>"
      ]
     },
     "metadata": {
      "needs_background": "light"
     },
     "output_type": "display_data"
    }
   ],
   "source": [
    "plt.figure(figsize=(10,10))\n",
    "\n",
    "for i in range(2):\n",
    "    score = lof_score[np.where(labels==i)[0]].reshape(-1)\n",
    "    plt.hist(score,bins=20,label=i,alpha=0.5)\n",
    "plt.legend()\n",
    "plt.show()"
   ]
  },
  {
   "cell_type": "code",
   "execution_count": 2,
   "metadata": {},
   "outputs": [
    {
     "name": "stderr",
     "output_type": "stream",
     "text": [
      "Computing support features...: 100%|██████████| 10/10 [00:06<00:00,  1.62it/s]\n",
      "Subsampling...: 100%|██████████| 25088/25088 [00:18<00:00, 1355.01it/s]\n"
     ]
    }
   ],
   "source": [
    "inputs = prepare('mvtecad','screw',0.2,False,'lof', 0.15)\n",
    "train(inputs)\n",
    "p_results, i_results = evaluation(inputs)\n",
    "result = [p_results['auroc'], i_results['auroc']]"
   ]
  },
  {
   "cell_type": "code",
   "execution_count": 2,
   "metadata": {},
   "outputs": [
    {
     "name": "stderr",
     "output_type": "stream",
     "text": [
      "Computing support features...: 100%|██████████| 10/10 [00:06<00:00,  1.64it/s]\n",
      "Subsampling...: 100%|██████████| 25088/25088 [00:18<00:00, 1338.27it/s]\n"
     ]
    }
   ],
   "source": [
    "ar = 0.2\n",
    "th = 0.1 \n",
    "inputs = prepare('mvtecad','screw',ar,False,'lof', th)\n",
    "train(inputs)\n",
    "p_results, i_results = evaluation(inputs)\n",
    "\n",
    "\n",
    "labels = [] \n",
    "for _,label,_ in inputs['trainloader']:\n",
    "    labels.append(label.detach().cpu().numpy())\n",
    "labels = np.concatenate(labels)    \n",
    "\n",
    "patch_weight = inputs['model'].patch_weight.detach().cpu().numpy()\n",
    "patch_weight = patch_weight.reshape(len(inputs['trainloader'].dataset),-1)\n",
    "patch_features = inputs['model'].patch_features"
   ]
  },
  {
   "cell_type": "code",
   "execution_count": 24,
   "metadata": {},
   "outputs": [
    {
     "data": {
      "image/png": "[encoded data removed]",
      "text/plain": [
       "<Figure size 432x288 with 1 Axes>"
      ]
     },
     "metadata": {
      "needs_background": "light"
     },
     "output_type": "display_data"
    }
   ],
   "source": [
    "plt.hist(inputs['model'].coreset_weight)\n",
    "plt.show()"
   ]
  },
  {
   "cell_type": "code",
   "execution_count": null,
   "metadata": {},
   "outputs": [],
   "source": [
    "for ar in [0, 0.2]:\n",
    "    inputs = prepare('mvtecad','screw',0.2,False,'lof', 0.15)\n",
    "    train(inputs)\n",
    "    "
   ]
  }
 ],
 "metadata": {
  "kernelspec": {
   "display_name": "Python 3",
   "language": "python",
   "name": "python3"
  },
  "language_info": {
   "codemirror_mode": {
    "name": "ipython",
    "version": 3
   },
   "file_extension": ".py",
   "mimetype": "text/x-python",
   "name": "python",
   "nbconvert_exporter": "python",
   "pygments_lexer": "ipython3",
   "version": "3.8.10"
  }
 },
 "nbformat": 4,
 "nbformat_minor": 2
}
